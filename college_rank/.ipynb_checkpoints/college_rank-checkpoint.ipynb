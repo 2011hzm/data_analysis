{
 "cells": [
  {
   "cell_type": "code",
   "execution_count": 56,
   "metadata": {},
   "outputs": [],
   "source": [
    "import requests\n",
    "import pandas as pd\n",
    "from bs4 import BeautifulSoup\n",
    "import re"
   ]
  },
  {
   "cell_type": "code",
   "execution_count": 54,
   "metadata": {},
   "outputs": [],
   "source": [
    "# 提取国家名称\n",
    "def get_country_name(html):\n",
    "    soup = BeautifulSoup(html,'lxml')\n",
    "    countries = soup.select('td > a > img')\n",
    "    lst = []\n",
    "    for i in countries:\n",
    "        src = i['src']\n",
    "        pattern = re.compile('flag.*/(.*?).png')\n",
    "        country = re.findall(pattern,src)[0]\n",
    "        lst.append(country)\n",
    "    return lst"
   ]
  },
  {
   "cell_type": "code",
   "execution_count": 57,
   "metadata": {
    "collapsed": true
   },
   "outputs": [
    {
     "name": "stdout",
     "output_type": "stream",
     "text": [
      "year 2005\n",
      "year 2006\n",
      "year 2007\n",
      "year 2008\n",
      "year 2009\n",
      "year 2010\n",
      "year 2011\n",
      "year 2012\n",
      "year 2013\n",
      "year 2014\n",
      "year 2015\n",
      "year 2016\n",
      "year 2017\n",
      "year 2018\n",
      "year 2019\n"
     ]
    }
   ],
   "source": [
    "for i in range(2005, 2020):\n",
    "    print('year', i)\n",
    "    url = 'http://www.shanghairanking.com/ARWU%s.html' % i\n",
    "    html = requests.get(url).content\n",
    "    table = pd.read_html(url)\n",
    "    college = table[0]\n",
    "    college.columns = ['world rank','university', 2,3, 'score', 5]\n",
    "    college.drop([2,3,5],axis = 1,inplace = True)\n",
    "    college['year'] = i\n",
    "    college['country'] = get_country(html)\n",
    "    college.to_csv(r'university.csv', mode='a', encoding='utf_8_sig', header=True, index=0)"
   ]
  },
  {
   "cell_type": "code",
   "execution_count": 58,
   "metadata": {},
   "outputs": [],
   "source": [
    "content = pd.read_csv('university.csv')"
   ]
  },
  {
   "cell_type": "code",
   "execution_count": 64,
   "metadata": {},
   "outputs": [],
   "source": [
    "content_2019 = content[content['year'] == 2019]"
   ]
  },
  {
   "cell_type": "code",
   "execution_count": 65,
   "metadata": {
    "scrolled": true
   },
   "outputs": [
    {
     "data": {
      "text/html": [
       "<div>\n",
       "<style scoped>\n",
       "    .dataframe tbody tr th:only-of-type {\n",
       "        vertical-align: middle;\n",
       "    }\n",
       "\n",
       "    .dataframe tbody tr th {\n",
       "        vertical-align: top;\n",
       "    }\n",
       "\n",
       "    .dataframe thead th {\n",
       "        text-align: right;\n",
       "    }\n",
       "</style>\n",
       "<table border=\"1\" class=\"dataframe\">\n",
       "  <thead>\n",
       "    <tr style=\"text-align: right;\">\n",
       "      <th></th>\n",
       "      <th>world rank</th>\n",
       "      <th>university</th>\n",
       "      <th>score</th>\n",
       "      <th>year</th>\n",
       "      <th>country</th>\n",
       "    </tr>\n",
       "  </thead>\n",
       "  <tbody>\n",
       "    <tr>\n",
       "      <td>7014</td>\n",
       "      <td>1</td>\n",
       "      <td>Harvard University</td>\n",
       "      <td>100.0</td>\n",
       "      <td>2019</td>\n",
       "      <td>USA</td>\n",
       "    </tr>\n",
       "    <tr>\n",
       "      <td>7015</td>\n",
       "      <td>2</td>\n",
       "      <td>Stanford University</td>\n",
       "      <td>75.1</td>\n",
       "      <td>2019</td>\n",
       "      <td>USA</td>\n",
       "    </tr>\n",
       "    <tr>\n",
       "      <td>7016</td>\n",
       "      <td>3</td>\n",
       "      <td>University of Cambridge</td>\n",
       "      <td>72.3</td>\n",
       "      <td>2019</td>\n",
       "      <td>UK</td>\n",
       "    </tr>\n",
       "    <tr>\n",
       "      <td>7017</td>\n",
       "      <td>4</td>\n",
       "      <td>Massachusetts Institute of Technology (MIT)</td>\n",
       "      <td>69.0</td>\n",
       "      <td>2019</td>\n",
       "      <td>USA</td>\n",
       "    </tr>\n",
       "    <tr>\n",
       "      <td>7018</td>\n",
       "      <td>5</td>\n",
       "      <td>University of California, Berkeley</td>\n",
       "      <td>67.9</td>\n",
       "      <td>2019</td>\n",
       "      <td>USA</td>\n",
       "    </tr>\n",
       "    <tr>\n",
       "      <td>...</td>\n",
       "      <td>...</td>\n",
       "      <td>...</td>\n",
       "      <td>...</td>\n",
       "      <td>...</td>\n",
       "      <td>...</td>\n",
       "    </tr>\n",
       "    <tr>\n",
       "      <td>8009</td>\n",
       "      <td>901-1000</td>\n",
       "      <td>Williams College</td>\n",
       "      <td>NaN</td>\n",
       "      <td>2019</td>\n",
       "      <td>USA</td>\n",
       "    </tr>\n",
       "    <tr>\n",
       "      <td>8010</td>\n",
       "      <td>901-1000</td>\n",
       "      <td>Worcester Polytechnic Institute</td>\n",
       "      <td>NaN</td>\n",
       "      <td>2019</td>\n",
       "      <td>USA</td>\n",
       "    </tr>\n",
       "    <tr>\n",
       "      <td>8011</td>\n",
       "      <td>901-1000</td>\n",
       "      <td>Wroclaw University of Technology</td>\n",
       "      <td>NaN</td>\n",
       "      <td>2019</td>\n",
       "      <td>Poland</td>\n",
       "    </tr>\n",
       "    <tr>\n",
       "      <td>8012</td>\n",
       "      <td>901-1000</td>\n",
       "      <td>Yokohama National University</td>\n",
       "      <td>NaN</td>\n",
       "      <td>2019</td>\n",
       "      <td>Japan</td>\n",
       "    </tr>\n",
       "    <tr>\n",
       "      <td>8013</td>\n",
       "      <td>901-1000</td>\n",
       "      <td>Zagazig University</td>\n",
       "      <td>NaN</td>\n",
       "      <td>2019</td>\n",
       "      <td>Egypt</td>\n",
       "    </tr>\n",
       "  </tbody>\n",
       "</table>\n",
       "<p>1000 rows × 5 columns</p>\n",
       "</div>"
      ],
      "text/plain": [
       "     world rank                                   university  score  year  \\\n",
       "7014          1                           Harvard University  100.0  2019   \n",
       "7015          2                          Stanford University   75.1  2019   \n",
       "7016          3                      University of Cambridge   72.3  2019   \n",
       "7017          4  Massachusetts Institute of Technology (MIT)   69.0  2019   \n",
       "7018          5           University of California, Berkeley   67.9  2019   \n",
       "...         ...                                          ...    ...   ...   \n",
       "8009   901-1000                             Williams College    NaN  2019   \n",
       "8010   901-1000              Worcester Polytechnic Institute    NaN  2019   \n",
       "8011   901-1000             Wroclaw University of Technology    NaN  2019   \n",
       "8012   901-1000                 Yokohama National University    NaN  2019   \n",
       "8013   901-1000                           Zagazig University    NaN  2019   \n",
       "\n",
       "     country  \n",
       "7014     USA  \n",
       "7015     USA  \n",
       "7016      UK  \n",
       "7017     USA  \n",
       "7018     USA  \n",
       "...      ...  \n",
       "8009     USA  \n",
       "8010     USA  \n",
       "8011  Poland  \n",
       "8012   Japan  \n",
       "8013   Egypt  \n",
       "\n",
       "[1000 rows x 5 columns]"
      ]
     },
     "execution_count": 65,
     "metadata": {},
     "output_type": "execute_result"
    }
   ],
   "source": [
    "content_2019"
   ]
  },
  {
   "cell_type": "code",
   "execution_count": 66,
   "metadata": {},
   "outputs": [],
   "source": [
    "from pyecharts.charts import Bar, Pie, Line\n",
    "from pyecharts import options as opts\n",
    "from pyecharts.commons.utils import JsCode"
   ]
  },
  {
   "cell_type": "code",
   "execution_count": null,
   "metadata": {},
   "outputs": [],
   "source": []
  },
  {
   "cell_type": "code",
   "execution_count": 93,
   "metadata": {},
   "outputs": [],
   "source": [
    "mydata={'Harvard_University': 'file:///C:\\Work\\code\\Python\\data_combat\\college_rank\\pic\\Harvard_University.png', \n",
    "         'Stanford_University': 'file:///C:\\Work\\code\\Python\\data_combat\\college_rank\\pic\\Stanford_University.png', \n",
    "         'University_of_Cambridge': r'file:///C:\\Work\\code\\Python\\data_combat\\college_rank\\pic\\University_of_Cambridge.png',\n",
    "         'Massachusetts_Institute_of_Technology_(MIT)': 'file:///C:\\Work\\code\\Python\\data_combat\\college_rank\\pic\\Massachusetts_Institute_of_Technology_(MIT).png',\n",
    "         'University_of_California_Berkeley': r'file:///C:\\Work\\code\\Python\\data_combat\\college_rank\\pic\\University_of_California_Berkeley.png',\n",
    "         'Princeton_University': 'file:///C:\\Work\\code\\Python\\data_combat\\college_rank\\pic\\Princeton_University.png',\n",
    "         'University_of_Oxford': r'file:///C:\\Work\\code\\Python\\data_combat\\college_rank\\pic\\University_of_Oxford.jpg', \n",
    "         'Columbia_University': 'file:///C:\\Work\\code\\Python\\data_combat\\college_rank\\pic\\Columbia_University.png', \n",
    "         'California_Institute_of_Technology': 'file:///C:\\Work\\code\\Python\\data_combat\\college_rank\\pic\\California_Institute_of_Technology.png',\n",
    "         'University_of_Chicago': r'file:///C:\\Work\\code\\Python\\data_combat\\college_rank\\pic\\University_of_Chicago.png'\n",
    "        }"
   ]
  },
  {
   "cell_type": "code",
   "execution_count": 152,
   "metadata": {},
   "outputs": [],
   "source": [
    "# 图片\n",
    "rich = {\n",
    "         'value': {\n",
    "            'lineHeight': 30,\n",
    "            'align': 'center'\n",
    "        },\n",
    "         'Harvard_University': {\n",
    "            'height': 60,\n",
    "            'align': 'center',\n",
    "            'backgroundColor': {\n",
    "                'image': mydata['Harvard_University']\n",
    "            }\n",
    "        },\n",
    "        'Stanford University': {\n",
    "            'height': 40,\n",
    "            'align': 'center',\n",
    "            'backgroundColor': {\n",
    "                'image': mydata['Stanford_University']\n",
    "            }\n",
    "        },\n",
    "        'University of Cambridge': {\n",
    "            'height': 40,\n",
    "            'align': 'center',\n",
    "            'backgroundColor': {\n",
    "                'image': mydata['University_of_Cambridge']\n",
    "            }\n",
    "        },\n",
    "        'Massachusetts Institute of Technology (MIT)': \n",
    "        {\n",
    "            'height': 40,\n",
    "            'align': 'center',\n",
    "            'backgroundColor': {\n",
    "                'image': mydata['Massachusetts_Institute_of_Technology_(MIT)']\n",
    "            }\n",
    "        },\n",
    "        'University of California, Berkeley': \n",
    "        {\n",
    "            'height': 40,\n",
    "            'align': 'center',\n",
    "            'backgroundColor': {\n",
    "                'image': mydata['University_of_California_Berkeley']\n",
    "            }\n",
    "        },\n",
    "        'Princeton University': {\n",
    "            'height': 40,\n",
    "            'align': 'center',\n",
    "            'backgroundColor': {\n",
    "                'image': mydata['Princeton_University']\n",
    "            }\n",
    "        },\n",
    "        'University of Oxford':\n",
    "        {\n",
    "            'height': 40,\n",
    "            'align': 'center',\n",
    "            'backgroundColor': {\n",
    "                'image': mydata['University_of_Oxford']\n",
    "            }\n",
    "        },\n",
    "        'Columbia University':\n",
    "        {\n",
    "            'height': 40,\n",
    "            'align': 'center',\n",
    "            'backgroundColor': {\n",
    "                'image': mydata['Columbia_University']\n",
    "            }\n",
    "        },\n",
    "        'California Institute of Technology':\n",
    "       {\n",
    "            'height': 40,\n",
    "            'align': 'center',\n",
    "            'backgroundColor': {\n",
    "                'image': mydata['California_Institute_of_Technology']\n",
    "            }\n",
    "        }, \n",
    "        'University of Chicago':\n",
    "        {\n",
    "            'height': 40,\n",
    "            'align': 'center',\n",
    "            'backgroundColor': {\n",
    "                'image': mydata['University_of_Chicago']\n",
    "            }\n",
    "        }, \n",
    "     }"
   ]
  },
  {
   "cell_type": "code",
   "execution_count": 145,
   "metadata": {},
   "outputs": [],
   "source": [
    "country_name = [name.replace(' ', '_') for name in content_2019['university'].values.tolist()[:10][::-1]]"
   ]
  },
  {
   "cell_type": "code",
   "execution_count": 146,
   "metadata": {},
   "outputs": [
    {
     "data": {
      "text/plain": [
       "['University_of_Chicago',\n",
       " 'California_Institute_of_Technology',\n",
       " 'Columbia_University',\n",
       " 'University_of_Oxford',\n",
       " 'Princeton_University',\n",
       " 'University_of_California,_Berkeley',\n",
       " 'Massachusetts_Institute_of_Technology_(MIT)',\n",
       " 'University_of_Cambridge',\n",
       " 'Stanford_University',\n",
       " 'Harvard_University']"
      ]
     },
     "execution_count": 146,
     "metadata": {},
     "output_type": "execute_result"
    }
   ],
   "source": [
    "country_name"
   ]
  },
  {
   "cell_type": "code",
   "execution_count": 153,
   "metadata": {},
   "outputs": [],
   "source": [
    "def bar_university() -> Bar:\n",
    "    background_color_js = (\n",
    "        \"new echarts.graphic.LinearGradient(0, 0, 0, 1, \"\n",
    "        \"[{offset: 0, color: '#c86589'}, {offset: 1, color: '#06a7ff'}], false)\"\n",
    "    )\n",
    "   \n",
    "    c = (\n",
    "        Bar(init_opts=opts.InitOpts(\n",
    "#                 bg_color={\n",
    "#                     \"type\": \"pattern\",\n",
    "#                     \"image\": JsCode(\"img\"),\n",
    "#                     \"repeat\": \"no-repeat\",\n",
    "#                 },\n",
    "            height='1000px',\n",
    "            # width='1800px'\n",
    "            ))\n",
    "        .add_xaxis(country_name)\n",
    "        .add_yaxis(\"\", content_2019['score'].values.tolist()[:10][::-1], label_opts=opts.LabelOpts(position='inside', formatter=\"{b}: {c}\", color=\"black\"),)\n",
    "        .reversal_axis()\n",
    "        .set_global_opts(title_opts=opts.TitleOpts(title=\"2019全球大学排行\", title_textstyle_opts=opts.TextStyleOpts(color=\"black\")),\n",
    "                        xaxis_opts=opts.AxisOpts(axislabel_opts=opts.LabelOpts(rotate=-30),\n",
    "                                                axisline_opts=opts.AxisLineOpts(is_show=False),),\n",
    "                         yaxis_opts=opts.AxisOpts(\n",
    "                            axislabel_opts=opts.LabelOpts(formatter=JsCode (\"\"\"\n",
    "                                                            function (value) {\n",
    "                                                            for(x in value){\n",
    "                                                            console.log(mydata[value])\n",
    "\n",
    "                                                            }\n",
    "                                                            return '{' + value + '|}';\n",
    "                                                        }\"\"\"),\n",
    "                                                         rich=rich\n",
    "                                                         ))\n",
    "                        )\n",
    "        .set_series_opts(itemstyle_opts={\n",
    "            \"normal\": {\n",
    "                \"color\": JsCode(\"\"\"new echarts.graphic.LinearGradient(0, 0, 0, 1, [{\n",
    "                    offset: 0,\n",
    "                    color: '#FF6461'\n",
    "                }, {\n",
    "                    offset: 0.5,\n",
    "                    color: '#FFB1B0'\n",
    "                },\n",
    "                {offset: 1, color: '#F6CB90'}], )\"\"\"),\n",
    "                \n",
    "            }},\n",
    "                )\n",
    "    )\n",
    "    c.add_js_funcs(\n",
    "        \"\"\"\n",
    "        var img = new Image(); img.src = 'file:///C:/Work/code/Python/data_combat/Annual_Ceremony/soccer_clubs_rank/bk8.jpg';\n",
    "        mydata={'Harvard University': 'file:///C:\\Work\\code\\Python\\data_combat\\college_rank\\pic\\Harvard_University.png',}\n",
    "        \"\"\"\n",
    "    )\n",
    "    return c"
   ]
  },
  {
   "cell_type": "code",
   "execution_count": 154,
   "metadata": {},
   "outputs": [
    {
     "data": {
      "text/plain": [
       "'C:\\\\Work\\\\code\\\\Python\\\\data_combat\\\\college_rank\\\\render.html'"
      ]
     },
     "execution_count": 154,
     "metadata": {},
     "output_type": "execute_result"
    }
   ],
   "source": [
    "bar_university().render()"
   ]
  },
  {
   "cell_type": "code",
   "execution_count": 98,
   "metadata": {},
   "outputs": [
    {
     "data": {
      "text/plain": [
       "['University of California, San Francisco',\n",
       " 'Swiss Federal Institute of Technology Zurich',\n",
       " 'University of California, San Diego',\n",
       " 'University of Pennsylvania',\n",
       " 'Johns Hopkins University',\n",
       " 'University College London',\n",
       " 'University of Washington',\n",
       " 'Cornell University',\n",
       " 'Yale University',\n",
       " 'University of California, Los Angeles',\n",
       " 'University of Chicago',\n",
       " 'California Institute of Technology',\n",
       " 'Columbia University',\n",
       " 'University of Oxford',\n",
       " 'Princeton University',\n",
       " 'University of California, Berkeley',\n",
       " 'Massachusetts Institute of Technology (MIT)',\n",
       " 'University of Cambridge',\n",
       " 'Stanford University',\n",
       " 'Harvard University']"
      ]
     },
     "execution_count": 98,
     "metadata": {},
     "output_type": "execute_result"
    }
   ],
   "source": [
    "content_2019['university'].values.tolist()[:20][::-1]"
   ]
  },
  {
   "cell_type": "code",
   "execution_count": null,
   "metadata": {},
   "outputs": [],
   "source": []
  },
  {
   "cell_type": "code",
   "execution_count": null,
   "metadata": {},
   "outputs": [],
   "source": []
  }
 ],
 "metadata": {
  "kernelspec": {
   "display_name": "Python 3",
   "language": "python",
   "name": "python3"
  },
  "language_info": {
   "codemirror_mode": {
    "name": "ipython",
    "version": 3
   },
   "file_extension": ".py",
   "mimetype": "text/x-python",
   "name": "python",
   "nbconvert_exporter": "python",
   "pygments_lexer": "ipython3",
   "version": "3.7.1"
  }
 },
 "nbformat": 4,
 "nbformat_minor": 2
}
